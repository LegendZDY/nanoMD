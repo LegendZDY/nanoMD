{
 "cells": [
  {
   "cell_type": "code",
   "execution_count": 1,
   "metadata": {},
   "outputs": [],
   "source": [
    "import pandas as pd\n",
    "import numpy as np\n",
    "import matplotlib.pyplot as plt\n",
    "import matplotlib as mpl\n",
    "from sklearn import tree\n",
    "from sklearn.ensemble import RandomForestClassifier\n",
    "from sklearn.model_selection import train_test_split,cross_validate\n",
    "from sklearn.preprocessing import MinMaxScaler,LabelBinarizer\n",
    "from sklearn.impute import SimpleImputer\n",
    "from sklearn import metrics#参数，roc和auc\n",
    "from sklearn.preprocessing import label_binarize#二值化\n",
    "import joblib\n",
    "mpl.rcParams['font.sans-serif'] = ['SimHei']\n",
    "mpl.rcParams['axes.unicode_minus'] = False"
   ]
  },
  {
   "cell_type": "code",
   "execution_count": 2,
   "metadata": {},
   "outputs": [
    {
     "name": "stdout",
     "output_type": "stream",
     "text": [
      "(6046771, 9)\n"
     ]
    },
    {
     "data": {
      "text/html": [
       "<div>\n",
       "<style scoped>\n",
       "    .dataframe tbody tr th:only-of-type {\n",
       "        vertical-align: middle;\n",
       "    }\n",
       "\n",
       "    .dataframe tbody tr th {\n",
       "        vertical-align: top;\n",
       "    }\n",
       "\n",
       "    .dataframe thead th {\n",
       "        text-align: right;\n",
       "    }\n",
       "</style>\n",
       "<table border=\"1\" class=\"dataframe\">\n",
       "  <thead>\n",
       "    <tr style=\"text-align: right;\">\n",
       "      <th></th>\n",
       "      <th>AmismatchRate</th>\n",
       "      <th>Arate</th>\n",
       "      <th>UmismatchRate</th>\n",
       "      <th>Urate</th>\n",
       "      <th>GmismatchRate</th>\n",
       "      <th>Grate</th>\n",
       "      <th>CmismatchRate</th>\n",
       "      <th>Crate</th>\n",
       "      <th>label</th>\n",
       "    </tr>\n",
       "  </thead>\n",
       "  <tbody>\n",
       "    <tr>\n",
       "      <th>0</th>\n",
       "      <td>0.0284</td>\n",
       "      <td>0.2787</td>\n",
       "      <td>0.0247</td>\n",
       "      <td>0.2990</td>\n",
       "      <td>0.0358</td>\n",
       "      <td>0.1978</td>\n",
       "      <td>0.0321</td>\n",
       "      <td>0.2245</td>\n",
       "      <td>0</td>\n",
       "    </tr>\n",
       "    <tr>\n",
       "      <th>1</th>\n",
       "      <td>0.0265</td>\n",
       "      <td>0.2753</td>\n",
       "      <td>0.0291</td>\n",
       "      <td>0.2990</td>\n",
       "      <td>0.0344</td>\n",
       "      <td>0.2002</td>\n",
       "      <td>0.0397</td>\n",
       "      <td>0.2255</td>\n",
       "      <td>0</td>\n",
       "    </tr>\n",
       "    <tr>\n",
       "      <th>2</th>\n",
       "      <td>0.1487</td>\n",
       "      <td>0.3000</td>\n",
       "      <td>0.2929</td>\n",
       "      <td>0.2121</td>\n",
       "      <td>0.1457</td>\n",
       "      <td>0.2495</td>\n",
       "      <td>0.1472</td>\n",
       "      <td>0.2383</td>\n",
       "      <td>0</td>\n",
       "    </tr>\n",
       "    <tr>\n",
       "      <th>3</th>\n",
       "      <td>0.1498</td>\n",
       "      <td>0.3389</td>\n",
       "      <td>0.2718</td>\n",
       "      <td>0.2549</td>\n",
       "      <td>0.1638</td>\n",
       "      <td>0.2185</td>\n",
       "      <td>0.2160</td>\n",
       "      <td>0.1877</td>\n",
       "      <td>0</td>\n",
       "    </tr>\n",
       "    <tr>\n",
       "      <th>4</th>\n",
       "      <td>0.0211</td>\n",
       "      <td>0.2671</td>\n",
       "      <td>0.0352</td>\n",
       "      <td>0.3642</td>\n",
       "      <td>0.0211</td>\n",
       "      <td>0.1734</td>\n",
       "      <td>0.0164</td>\n",
       "      <td>0.1954</td>\n",
       "      <td>0</td>\n",
       "    </tr>\n",
       "    <tr>\n",
       "      <th>...</th>\n",
       "      <td>...</td>\n",
       "      <td>...</td>\n",
       "      <td>...</td>\n",
       "      <td>...</td>\n",
       "      <td>...</td>\n",
       "      <td>...</td>\n",
       "      <td>...</td>\n",
       "      <td>...</td>\n",
       "      <td>...</td>\n",
       "    </tr>\n",
       "    <tr>\n",
       "      <th>3025013</th>\n",
       "      <td>0.0069</td>\n",
       "      <td>0.2144</td>\n",
       "      <td>0.0412</td>\n",
       "      <td>0.2209</td>\n",
       "      <td>0.0034</td>\n",
       "      <td>0.2750</td>\n",
       "      <td>0.0241</td>\n",
       "      <td>0.2897</td>\n",
       "      <td>1</td>\n",
       "    </tr>\n",
       "    <tr>\n",
       "      <th>3025014</th>\n",
       "      <td>0.0337</td>\n",
       "      <td>0.3744</td>\n",
       "      <td>0.0325</td>\n",
       "      <td>0.2332</td>\n",
       "      <td>0.0072</td>\n",
       "      <td>0.2210</td>\n",
       "      <td>0.0169</td>\n",
       "      <td>0.1713</td>\n",
       "      <td>1</td>\n",
       "    </tr>\n",
       "    <tr>\n",
       "      <th>3025015</th>\n",
       "      <td>0.0153</td>\n",
       "      <td>0.3381</td>\n",
       "      <td>0.0174</td>\n",
       "      <td>0.2812</td>\n",
       "      <td>0.0131</td>\n",
       "      <td>0.1993</td>\n",
       "      <td>0.0131</td>\n",
       "      <td>0.1814</td>\n",
       "      <td>1</td>\n",
       "    </tr>\n",
       "    <tr>\n",
       "      <th>3025016</th>\n",
       "      <td>0.0325</td>\n",
       "      <td>0.2281</td>\n",
       "      <td>0.0163</td>\n",
       "      <td>0.1983</td>\n",
       "      <td>0.0163</td>\n",
       "      <td>0.2645</td>\n",
       "      <td>0.0163</td>\n",
       "      <td>0.3091</td>\n",
       "      <td>1</td>\n",
       "    </tr>\n",
       "    <tr>\n",
       "      <th>3025017</th>\n",
       "      <td>0.0275</td>\n",
       "      <td>0.3171</td>\n",
       "      <td>0.0191</td>\n",
       "      <td>0.2618</td>\n",
       "      <td>0.0169</td>\n",
       "      <td>0.2330</td>\n",
       "      <td>0.0212</td>\n",
       "      <td>0.1881</td>\n",
       "      <td>1</td>\n",
       "    </tr>\n",
       "  </tbody>\n",
       "</table>\n",
       "<p>6046771 rows × 9 columns</p>\n",
       "</div>"
      ],
      "text/plain": [
       "         AmismatchRate   Arate  UmismatchRate   Urate  GmismatchRate   Grate  \\\n",
       "0               0.0284  0.2787         0.0247  0.2990         0.0358  0.1978   \n",
       "1               0.0265  0.2753         0.0291  0.2990         0.0344  0.2002   \n",
       "2               0.1487  0.3000         0.2929  0.2121         0.1457  0.2495   \n",
       "3               0.1498  0.3389         0.2718  0.2549         0.1638  0.2185   \n",
       "4               0.0211  0.2671         0.0352  0.3642         0.0211  0.1734   \n",
       "...                ...     ...            ...     ...            ...     ...   \n",
       "3025013         0.0069  0.2144         0.0412  0.2209         0.0034  0.2750   \n",
       "3025014         0.0337  0.3744         0.0325  0.2332         0.0072  0.2210   \n",
       "3025015         0.0153  0.3381         0.0174  0.2812         0.0131  0.1993   \n",
       "3025016         0.0325  0.2281         0.0163  0.1983         0.0163  0.2645   \n",
       "3025017         0.0275  0.3171         0.0191  0.2618         0.0169  0.2330   \n",
       "\n",
       "         CmismatchRate   Crate  label  \n",
       "0               0.0321  0.2245      0  \n",
       "1               0.0397  0.2255      0  \n",
       "2               0.1472  0.2383      0  \n",
       "3               0.2160  0.1877      0  \n",
       "4               0.0164  0.1954      0  \n",
       "...                ...     ...    ...  \n",
       "3025013         0.0241  0.2897      1  \n",
       "3025014         0.0169  0.1713      1  \n",
       "3025015         0.0131  0.1814      1  \n",
       "3025016         0.0163  0.3091      1  \n",
       "3025017         0.0212  0.1881      1  \n",
       "\n",
       "[6046771 rows x 9 columns]"
      ]
     },
     "execution_count": 2,
     "metadata": {},
     "output_type": "execute_result"
    }
   ],
   "source": [
    "names = [\"AmismatchRate\",\"Arate\",\"UmismatchRate\",\"Urate\",\"GmismatchRate\",\"Grate\",\"CmismatchRate\",\"Crate\",\"label\"]#df.columns\n",
    "path1=\"./control.csv\"\n",
    "path2=\"./treat.csv\"\n",
    "# path1=\"~/project/t3_ontnewrna/output/paper-unlabled/TrainData/CrandomForestTrainData.csv\"\n",
    "# path2=\"~/project/t3_ontnewrna/output/OV-FTO-2-0603/TrainData/TrandomForestTrainData.csv\"\n",
    "df1 = pd.read_csv(path1)\n",
    "df2 = pd.read_csv(path2)\n",
    "df1[\"label\"]=0\n",
    "df2[\"label\"]=1\n",
    "df=pd.concat([df1,df2])\n",
    "df = df[names]\n",
    "df=df.replace([np.inf, -np.inf], np.nan)\n",
    "print(df.shape)\n",
    "df"
   ]
  },
  {
   "cell_type": "code",
   "execution_count": 3,
   "metadata": {},
   "outputs": [
    {
     "name": "stdout",
     "output_type": "stream",
     "text": [
      "训练样本数量:4837416,特征属性数目:8,目标属性数目:1\n"
     ]
    }
   ],
   "source": [
    "#.划分测试集合训练集\n",
    "\n",
    "x=df.iloc[:,0:-1]\n",
    "y=df.iloc[:,-1:]\n",
    "\n",
    "x=x.replace(\"inf\", np.NAN)\n",
    "\n",
    "#通过平局值来替换nan\n",
    "#imputer = SimpleImputer(missing_values=\"NaN\")\n",
    "imputer = SimpleImputer(missing_values=np.nan, strategy='mean')\n",
    "x=imputer.fit_transform(x,y)\n",
    "\n",
    "x_train,x_test,y_train,y_test = train_test_split(x,y,test_size=0.2,random_state=0)\n",
    "print(\"训练样本数量:%d,特征属性数目:%d,目标属性数目:%d\"%(x_train.shape[0],x_train.shape[1],y_train.shape[1]))"
   ]
  },
  {
   "cell_type": "code",
   "execution_count": 4,
   "metadata": {},
   "outputs": [],
   "source": [
    "ss = MinMaxScaler()\n",
    "#x_train\n",
    "# y_train\n",
    "ss = MinMaxScaler()\n",
    "x_train2 = x_train\n",
    "x_train = ss.fit_transform(x_train)\n",
    "x_test = ss.transform(x_test)\n",
    "x_train2 = ss.transform(x_train2)\n",
    "y12 = []\n",
    "for i in y_test[\"label\"]:\n",
    "    y12.append(i)"
   ]
  },
  {
   "cell_type": "code",
   "execution_count": 5,
   "metadata": {},
   "outputs": [
    {
     "name": "stderr",
     "output_type": "stream",
     "text": [
      "C:\\Users\\panda\\anaconda3\\lib\\site-packages\\ipykernel_launcher.py:2: DataConversionWarning: A column-vector y was passed when a 1d array was expected. Please change the shape of y to (n_samples,), for example using ravel().\n",
      "  \n"
     ]
    },
    {
     "name": "stdout",
     "output_type": "stream",
     "text": [
      "准确率：82.24%\n",
      "准确率：97.77%\n"
     ]
    },
    {
     "name": "stderr",
     "output_type": "stream",
     "text": [
      "C:\\Users\\panda\\anaconda3\\lib\\site-packages\\sklearn\\model_selection\\_validation.py:515: DataConversionWarning: A column-vector y was passed when a 1d array was expected. Please change the shape of y to (n_samples,), for example using ravel().\n",
      "  estimator.fit(X_train, y_train, **fit_params)\n",
      "C:\\Users\\panda\\anaconda3\\lib\\site-packages\\sklearn\\model_selection\\_validation.py:515: DataConversionWarning: A column-vector y was passed when a 1d array was expected. Please change the shape of y to (n_samples,), for example using ravel().\n",
      "  estimator.fit(X_train, y_train, **fit_params)\n",
      "C:\\Users\\panda\\anaconda3\\lib\\site-packages\\sklearn\\model_selection\\_validation.py:515: DataConversionWarning: A column-vector y was passed when a 1d array was expected. Please change the shape of y to (n_samples,), for example using ravel().\n",
      "  estimator.fit(X_train, y_train, **fit_params)\n",
      "C:\\Users\\panda\\anaconda3\\lib\\site-packages\\sklearn\\model_selection\\_validation.py:515: DataConversionWarning: A column-vector y was passed when a 1d array was expected. Please change the shape of y to (n_samples,), for example using ravel().\n",
      "  estimator.fit(X_train, y_train, **fit_params)\n",
      "C:\\Users\\panda\\anaconda3\\lib\\site-packages\\sklearn\\model_selection\\_validation.py:515: DataConversionWarning: A column-vector y was passed when a 1d array was expected. Please change the shape of y to (n_samples,), for example using ravel().\n",
      "  estimator.fit(X_train, y_train, **fit_params)\n"
     ]
    },
    {
     "name": "stdout",
     "output_type": "stream",
     "text": [
      "0.9784943552227008\n",
      "0.8040511713911132\n"
     ]
    },
    {
     "data": {
      "text/plain": [
       "array([1, 0, 1, ..., 1, 0, 1], dtype=int64)"
      ]
     },
     "execution_count": 5,
     "metadata": {},
     "output_type": "execute_result"
    }
   ],
   "source": [
    "rf = RandomForestClassifier(n_estimators=50,criterion=\"gini\",max_depth=30,random_state=1)\n",
    "rf.fit(x_train,y_train)\n",
    "#joblib.dump(rf, \"test.pkl\")\n",
    "score = rf.score(x_test,y_test)\n",
    "score2 = rf.score(x_train2,y_train)\n",
    "#score2 = rf.socre(x_train,y_train)\n",
    "print(\"准确率：%.2f%%\"%(score*100))\n",
    "print(\"准确率：%.2f%%\"%(score2*100))\n",
    "cv_results = cross_validate(rf,x_train,y_train,return_train_score=True)\n",
    "print(cv_results[\"train_score\"].mean())\n",
    "print(cv_results[\"test_score\"].mean())\n",
    "forest_y_score1 = rf.predict(x_test)\n",
    "forest_y_score1"
   ]
  },
  {
   "cell_type": "code",
   "execution_count": 6,
   "metadata": {},
   "outputs": [
    {
     "name": "stdout",
     "output_type": "stream",
     "text": [
      "5EU目标属性AUC值： 0.910202223735844\n"
     ]
    }
   ],
   "source": [
    "forest_y_score = rf.predict_proba(x_test)\n",
    "p1,p2=[],[]\n",
    "for j in forest_y_score:\n",
    "    p1.append(j[0])\n",
    "    p2.append(j[1])\n",
    "with open(\"x_test.csv\",\"w\") as opf:\n",
    "    opf.write(\"AmismatchRate,UmismatchRate,GmismatchRate,CmismatchRate,label,predict,prob1,prob2\\n\")\n",
    "    for i in x_test:\n",
    "        opf.write(\",\".join(map(str, i))+\"\\n\")\n",
    "# xtest = pd.read_csv(\"./x_test.csv\")\n",
    "# xtest[\"label\"] = y12\n",
    "# xtest[\"predict\"] = forest_y_score1\n",
    "# xtest[\"prob1\"] = p1\n",
    "# xtest[\"prob2\"] = p2\n",
    "# xtest.to_csv(\"xtest.csv\",index=False,sep=',')\n",
    "# print(x_test)\n",
    "# print(x_test.shape)\n",
    "# print(forest_y_score)\n",
    "# print(forest_y_score.shape)\n",
    "#print(y_test[names[-1]])\n",
    "# forest_y_score = rf.predict_proba(x_test)\n",
    "# print(forest_y_score)\n",
    "#计算roc和auc\n",
    "forest_fpr1, forest_tpr1, _ = metrics.roc_curve(label_binarize(y_test[names[-1]],classes=[0,1,2]).T[0:-1].T.ravel(), forest_y_score.ravel())\n",
    "#AUC值\n",
    "auc1 = metrics.auc(forest_fpr1, forest_tpr1)\n",
    "print (\"5EU目标属性AUC值：\", auc1)"
   ]
  },
  {
   "cell_type": "code",
   "execution_count": 7,
   "metadata": {},
   "outputs": [
    {
     "data": {
      "image/png": "[encoded data removed]",
      "text/plain": [
       "<Figure size 576x432 with 1 Axes>"
      ]
     },
     "metadata": {},
     "output_type": "display_data"
    }
   ],
   "source": [
    "plt.style.use('ggplot')\n",
    "plt.figure(figsize=(8, 6), facecolor='w')\n",
    "plt.plot(forest_fpr1,forest_tpr1,c='r',lw=2,label=u'5EU目标属性,AUC=%.3f' % auc1)\n",
    "plt.plot((0,1),(0,1),c='#a0a0a0',lw=2,ls='--')\n",
    "plt.xlim(-0.001, 1.001)\n",
    "plt.ylim(-0.001, 1.001)\n",
    "plt.xticks(np.arange(0, 1.1, 0.1))\n",
    "plt.yticks(np.arange(0, 1.1, 0.1))\n",
    "plt.xlabel('False Positive Rate(FPR)', fontsize=16)\n",
    "plt.ylabel('True Positive Rate(TPR)', fontsize=16)\n",
    "plt.grid(b=True, ls=':')\n",
    "plt.legend(loc='lower right', fancybox=True, framealpha=0.8, fontsize=12)\n",
    "plt.title(u'随机森林多目标属性分类ROC曲线', fontsize=18)\n",
    "plt.show()"
   ]
  },
  {
   "cell_type": "code",
   "execution_count": 8,
   "metadata": {},
   "outputs": [
    {
     "name": "stdout",
     "output_type": "stream",
     "text": [
      "训练样本数量3023385，测试样本数量:3023386\n"
     ]
    },
    {
     "name": "stderr",
     "output_type": "stream",
     "text": [
      "C:\\Users\\panda\\anaconda3\\lib\\site-packages\\ipykernel_launcher.py:14: DataConversionWarning: A column-vector y was passed when a 1d array was expected. Please change the shape of y to (n_samples,), for example using ravel().\n",
      "  \n"
     ]
    },
    {
     "name": "stdout",
     "output_type": "stream",
     "text": [
      "1决策树数目，1最大深度，正确率:63.44%\n"
     ]
    },
    {
     "name": "stderr",
     "output_type": "stream",
     "text": [
      "C:\\Users\\panda\\anaconda3\\lib\\site-packages\\ipykernel_launcher.py:14: DataConversionWarning: A column-vector y was passed when a 1d array was expected. Please change the shape of y to (n_samples,), for example using ravel().\n",
      "  \n"
     ]
    },
    {
     "name": "stdout",
     "output_type": "stream",
     "text": [
      "1决策树数目，2最大深度，正确率:63.44%\n"
     ]
    },
    {
     "name": "stderr",
     "output_type": "stream",
     "text": [
      "C:\\Users\\panda\\anaconda3\\lib\\site-packages\\ipykernel_launcher.py:14: DataConversionWarning: A column-vector y was passed when a 1d array was expected. Please change the shape of y to (n_samples,), for example using ravel().\n",
      "  \n"
     ]
    },
    {
     "name": "stdout",
     "output_type": "stream",
     "text": [
      "1决策树数目，3最大深度，正确率:63.68%\n"
     ]
    },
    {
     "name": "stderr",
     "output_type": "stream",
     "text": [
      "C:\\Users\\panda\\anaconda3\\lib\\site-packages\\ipykernel_launcher.py:14: DataConversionWarning: A column-vector y was passed when a 1d array was expected. Please change the shape of y to (n_samples,), for example using ravel().\n",
      "  \n"
     ]
    },
    {
     "name": "stdout",
     "output_type": "stream",
     "text": [
      "1决策树数目，7最大深度，正确率:64.24%\n"
     ]
    },
    {
     "name": "stderr",
     "output_type": "stream",
     "text": [
      "C:\\Users\\panda\\anaconda3\\lib\\site-packages\\ipykernel_launcher.py:14: DataConversionWarning: A column-vector y was passed when a 1d array was expected. Please change the shape of y to (n_samples,), for example using ravel().\n",
      "  \n"
     ]
    },
    {
     "name": "stdout",
     "output_type": "stream",
     "text": [
      "1决策树数目，15最大深度，正确率:64.73%\n"
     ]
    },
    {
     "name": "stderr",
     "output_type": "stream",
     "text": [
      "C:\\Users\\panda\\anaconda3\\lib\\site-packages\\ipykernel_launcher.py:14: DataConversionWarning: A column-vector y was passed when a 1d array was expected. Please change the shape of y to (n_samples,), for example using ravel().\n",
      "  \n"
     ]
    },
    {
     "name": "stdout",
     "output_type": "stream",
     "text": [
      "50决策树数目，1最大深度，正确率:63.46%\n"
     ]
    },
    {
     "name": "stderr",
     "output_type": "stream",
     "text": [
      "C:\\Users\\panda\\anaconda3\\lib\\site-packages\\ipykernel_launcher.py:14: DataConversionWarning: A column-vector y was passed when a 1d array was expected. Please change the shape of y to (n_samples,), for example using ravel().\n",
      "  \n"
     ]
    },
    {
     "name": "stdout",
     "output_type": "stream",
     "text": [
      "50决策树数目，2最大深度，正确率:63.46%\n"
     ]
    },
    {
     "name": "stderr",
     "output_type": "stream",
     "text": [
      "C:\\Users\\panda\\anaconda3\\lib\\site-packages\\ipykernel_launcher.py:14: DataConversionWarning: A column-vector y was passed when a 1d array was expected. Please change the shape of y to (n_samples,), for example using ravel().\n",
      "  \n"
     ]
    },
    {
     "name": "stdout",
     "output_type": "stream",
     "text": [
      "50决策树数目，3最大深度，正确率:63.69%\n"
     ]
    },
    {
     "name": "stderr",
     "output_type": "stream",
     "text": [
      "C:\\Users\\panda\\anaconda3\\lib\\site-packages\\ipykernel_launcher.py:14: DataConversionWarning: A column-vector y was passed when a 1d array was expected. Please change the shape of y to (n_samples,), for example using ravel().\n",
      "  \n"
     ]
    },
    {
     "name": "stdout",
     "output_type": "stream",
     "text": [
      "50决策树数目，7最大深度，正确率:64.42%\n"
     ]
    },
    {
     "name": "stderr",
     "output_type": "stream",
     "text": [
      "C:\\Users\\panda\\anaconda3\\lib\\site-packages\\ipykernel_launcher.py:14: DataConversionWarning: A column-vector y was passed when a 1d array was expected. Please change the shape of y to (n_samples,), for example using ravel().\n",
      "  \n"
     ]
    },
    {
     "name": "stdout",
     "output_type": "stream",
     "text": [
      "50决策树数目，15最大深度，正确率:66.95%\n"
     ]
    },
    {
     "name": "stderr",
     "output_type": "stream",
     "text": [
      "C:\\Users\\panda\\anaconda3\\lib\\site-packages\\ipykernel_launcher.py:14: DataConversionWarning: A column-vector y was passed when a 1d array was expected. Please change the shape of y to (n_samples,), for example using ravel().\n",
      "  \n"
     ]
    },
    {
     "name": "stdout",
     "output_type": "stream",
     "text": [
      "100决策树数目，1最大深度，正确率:63.46%\n"
     ]
    },
    {
     "name": "stderr",
     "output_type": "stream",
     "text": [
      "C:\\Users\\panda\\anaconda3\\lib\\site-packages\\ipykernel_launcher.py:14: DataConversionWarning: A column-vector y was passed when a 1d array was expected. Please change the shape of y to (n_samples,), for example using ravel().\n",
      "  \n"
     ]
    },
    {
     "name": "stdout",
     "output_type": "stream",
     "text": [
      "100决策树数目，2最大深度，正确率:63.48%\n"
     ]
    },
    {
     "name": "stderr",
     "output_type": "stream",
     "text": [
      "C:\\Users\\panda\\anaconda3\\lib\\site-packages\\ipykernel_launcher.py:14: DataConversionWarning: A column-vector y was passed when a 1d array was expected. Please change the shape of y to (n_samples,), for example using ravel().\n",
      "  \n"
     ]
    },
    {
     "name": "stdout",
     "output_type": "stream",
     "text": [
      "100决策树数目，3最大深度，正确率:63.68%\n"
     ]
    },
    {
     "name": "stderr",
     "output_type": "stream",
     "text": [
      "C:\\Users\\panda\\anaconda3\\lib\\site-packages\\ipykernel_launcher.py:14: DataConversionWarning: A column-vector y was passed when a 1d array was expected. Please change the shape of y to (n_samples,), for example using ravel().\n",
      "  \n"
     ]
    },
    {
     "name": "stdout",
     "output_type": "stream",
     "text": [
      "100决策树数目，7最大深度，正确率:64.41%\n"
     ]
    },
    {
     "name": "stderr",
     "output_type": "stream",
     "text": [
      "C:\\Users\\panda\\anaconda3\\lib\\site-packages\\ipykernel_launcher.py:14: DataConversionWarning: A column-vector y was passed when a 1d array was expected. Please change the shape of y to (n_samples,), for example using ravel().\n",
      "  \n"
     ]
    },
    {
     "name": "stdout",
     "output_type": "stream",
     "text": [
      "100决策树数目，15最大深度，正确率:66.99%\n"
     ]
    },
    {
     "name": "stderr",
     "output_type": "stream",
     "text": [
      "C:\\Users\\panda\\anaconda3\\lib\\site-packages\\ipykernel_launcher.py:14: DataConversionWarning: A column-vector y was passed when a 1d array was expected. Please change the shape of y to (n_samples,), for example using ravel().\n",
      "  \n"
     ]
    },
    {
     "name": "stdout",
     "output_type": "stream",
     "text": [
      "500决策树数目，1最大深度，正确率:63.46%\n"
     ]
    },
    {
     "name": "stderr",
     "output_type": "stream",
     "text": [
      "C:\\Users\\panda\\anaconda3\\lib\\site-packages\\ipykernel_launcher.py:14: DataConversionWarning: A column-vector y was passed when a 1d array was expected. Please change the shape of y to (n_samples,), for example using ravel().\n",
      "  \n"
     ]
    },
    {
     "name": "stdout",
     "output_type": "stream",
     "text": [
      "500决策树数目，2最大深度，正确率:63.46%\n"
     ]
    },
    {
     "name": "stderr",
     "output_type": "stream",
     "text": [
      "C:\\Users\\panda\\anaconda3\\lib\\site-packages\\ipykernel_launcher.py:14: DataConversionWarning: A column-vector y was passed when a 1d array was expected. Please change the shape of y to (n_samples,), for example using ravel().\n",
      "  \n"
     ]
    },
    {
     "name": "stdout",
     "output_type": "stream",
     "text": [
      "500决策树数目，3最大深度，正确率:63.69%\n"
     ]
    },
    {
     "name": "stderr",
     "output_type": "stream",
     "text": [
      "C:\\Users\\panda\\anaconda3\\lib\\site-packages\\ipykernel_launcher.py:14: DataConversionWarning: A column-vector y was passed when a 1d array was expected. Please change the shape of y to (n_samples,), for example using ravel().\n",
      "  \n"
     ]
    },
    {
     "name": "stdout",
     "output_type": "stream",
     "text": [
      "500决策树数目，7最大深度，正确率:64.41%\n"
     ]
    },
    {
     "name": "stderr",
     "output_type": "stream",
     "text": [
      "C:\\Users\\panda\\anaconda3\\lib\\site-packages\\ipykernel_launcher.py:14: DataConversionWarning: A column-vector y was passed when a 1d array was expected. Please change the shape of y to (n_samples,), for example using ravel().\n",
      "  \n"
     ]
    },
    {
     "name": "stdout",
     "output_type": "stream",
     "text": [
      "500决策树数目，15最大深度，正确率:67.04%\n"
     ]
    },
    {
     "data": {
      "image/png": "[encoded data removed]",
      "text/plain": [
       "<Figure size 432x288 with 1 Axes>"
      ]
     },
     "metadata": {},
     "output_type": "display_data"
    }
   ],
   "source": [
    "# 比较不同树数目、树最大深度的情况下随机森林的正确率\n",
    "# 一般情况下，初始的随机森林树个数是100，深度1，如果需要我们再进行优化操作\n",
    "x_train2, x_test2, y_train2, y_test2 = train_test_split(x,y, test_size=0.5, random_state=0)\n",
    "print(\"训练样本数量%d，测试样本数量:%d\" % (x_train2.shape[0], x_test2.shape[0]))\n",
    "## 比较\n",
    "estimators = [1, 50, 100, 500]\n",
    "depth = [1, 2, 3, 7, 15]\n",
    "err_list = []\n",
    "for es in estimators:\n",
    "       es_list = []\n",
    "       for d in depth:\n",
    "              tf = RandomForestClassifier(n_estimators=es, criterion='gini', max_depth=d, max_features=None,\n",
    "                                          random_state=0)\n",
    "              tf.fit(x_train2, y_train2)\n",
    "              st = tf.score(x_test2, y_test2)\n",
    "              err = 1 - st\n",
    "              es_list.append(err)\n",
    "              print(\"%d决策树数目，%d最大深度，正确率:%.2f%%\" % (es, d, st * 100))\n",
    "       err_list.append(es_list)\n",
    "\n",
    "## 画图\n",
    "plt.figure(facecolor='w')\n",
    "i = 0\n",
    "colors = ['r', 'b', 'g', 'y']\n",
    "lw = [1, 2, 4, 3]\n",
    "max_err = 0\n",
    "min_err = 100\n",
    "for es, l in zip(estimators, err_list):\n",
    "       plt.plot(depth, l, c=colors[i], lw=lw[i], label=u'树数目:%d' % es)\n",
    "       max_err = max((max(l), max_err))\n",
    "       min_err = min((min(l), min_err))\n",
    "       i += 1\n",
    "plt.xlabel(u'树深度', fontsize=16)\n",
    "plt.ylabel(u'错误率', fontsize=16)\n",
    "plt.legend(loc='upper left', fancybox=True, framealpha=0.8, fontsize=12)\n",
    "plt.grid(True)\n",
    "plt.xlim(min(depth), max(depth))\n",
    "plt.ylim(min_err * 0.99, max_err * 1.01)\n",
    "plt.title(u'随机森林中树数目、深度和错误率的关系图', fontsize=18)\n",
    "plt.show()"
   ]
  },
  {
   "cell_type": "code",
   "execution_count": null,
   "metadata": {},
   "outputs": [],
   "source": []
  },
  {
   "cell_type": "code",
   "execution_count": null,
   "metadata": {},
   "outputs": [],
   "source": []
  },
  {
   "cell_type": "code",
   "execution_count": null,
   "metadata": {},
   "outputs": [],
   "source": []
  },
  {
   "cell_type": "code",
   "execution_count": null,
   "metadata": {},
   "outputs": [],
   "source": []
  },
  {
   "cell_type": "code",
   "execution_count": null,
   "metadata": {},
   "outputs": [],
   "source": []
  },
  {
   "cell_type": "code",
   "execution_count": null,
   "metadata": {},
   "outputs": [],
   "source": []
  }
 ],
 "metadata": {
  "kernelspec": {
   "display_name": "Python 3",
   "language": "python",
   "name": "python3"
  },
  "language_info": {
   "codemirror_mode": {
    "name": "ipython",
    "version": 3
   },
   "file_extension": ".py",
   "mimetype": "text/x-python",
   "name": "python",
   "nbconvert_exporter": "python",
   "pygments_lexer": "ipython3",
   "version": "3.7.7"
  }
 },
 "nbformat": 4,
 "nbformat_minor": 4
}
